{
  "cells": [
    {
      "attachments": {},
      "cell_type": "markdown",
      "metadata": {
        "id": "mX8gZlVyCCbz"
      },
      "source": [
        "# ACTIVIDAD 2: REDES NEURONALES CONVOLUCIONALES\n",
        "\n",
        "---\n",
        "\n",
        "En esta actividad, vamos a trabajar con Convolutional Neural Networks para resolver un problema de clasificación de imágenes. En particular, vamos a clasificar imágenes de personajes de la conocida serie de los Simpsons.\n",
        "\n",
        "Como las CNN profundas son un tipo de modelo bastante avanzado y computacionalmente costoso, se recomienda hacer la práctica en Google Colaboratory con soporte para GPUs. En [este enlace](https://medium.com/deep-learning-turkey/google-colab-free-gpu-tutorial-e113627b9f5d) se explica cómo activar un entorno con GPUs. *Nota: para leer las imágenes y estandarizarlas al mismo tamaño se usa la librería opencv. Esta ĺibrería está ya instalada en el entorno de Colab, pero si trabajáis de manera local tendréis que instalarla.*\n",
        "\n",
        "<center><img src=\"https://i.imgur.com/i8zIGqX.jpg\" style=\"text-align: center\" height=\"300px\"></center>\n",
        "\n",
        "El dataset a utilizar consiste en imágenes de personajes de los Simpsons extraídas directamente de capítulos de la serie. Este dataset ha sido recopilado por [Alexandre Attia](http://www.alexattia.fr/) y es más complejo que el dataset de Fashion MNIST que hemos utilizado hasta ahora. Aparte de tener más clases (vamos a utilizar los 18 personajes con más imágenes), los personajes pueden aparecer en distintas poses, en distintas posiciones de la imagen o con otros personajes en pantalla (si bien el personaje a clasificar siempre aparece en la posición predominante).\n",
        "\n",
        "El dataset de training puede ser descargado desde aquí:\n",
        "\n",
        "[Training data](https://onedrive.live.com/download?cid=C506CF0A4F373B0F&resid=C506CF0A4F373B0F%219337&authkey=AMzI92bJPx8Sd60) (~500MB)\n",
        "\n",
        "Por otro lado, el dataset de test puede ser descargado de aquí:\n",
        "\n",
        "[Test data](https://onedrive.live.com/download?cid=C506CF0A4F373B0F&resid=C506CF0A4F373B0F%219341&authkey=ANnjK3Uq1FhuAe8) (~10MB)\n",
        "\n",
        "Antes de empezar la práctica, se recomienda descargar las imágenes y echarlas un vistazo.\n"
      ]
    },
    {
      "attachments": {},
      "cell_type": "markdown",
      "metadata": {
        "id": "QI274F8LQC59"
      },
      "source": [
        "## Carga de los datos"
      ]
    },
    {
      "cell_type": "code",
      "execution_count": 1,
      "metadata": {
        "id": "D7tKOZ9BFfki"
      },
      "outputs": [],
      "source": [
        "import cv2\n",
        "import os\n",
        "import numpy as np \n",
        "import keras\n",
        "from tensorflow import keras\n",
        "import matplotlib.pyplot as plt\n",
        "import glob\n",
        "import tensorflow as tf\n",
        "from sklearn.model_selection import train_test_split\n",
        "\n",
        "\n"
      ]
    },
    {
      "cell_type": "code",
      "execution_count": 6,
      "metadata": {
        "id": "iw0apA7ruy1c"
      },
      "outputs": [],
      "source": [
        "os.environ['KERAS_HOME'] = '/Users/baudi/Library/Mobile Documents/com~apple~CloudDocs/MASTER_AI/Asignaturas/SCA/Actividades/SCA_Actividad 2/'\n",
        "\n",
        "# Primero, bajamos los datos de entrenamiento\n",
        "keras.utils.get_file(fname=\"simpsons_train.tar.gz\", \n",
        "                     origin=\"https://onedrive.live.com/download?cid=C506CF0A4F373B0F&resid=C506CF0A4F373B0F%219337&authkey=AMzI92bJPx8Sd60\")\n",
        "\n",
        "# Descomprimimos el archivo\n",
        "!tar -xzf \"/Users/baudi/.keras/datasets/simpsons_train.tar.gz\" -C \"/Users/baudi/AI/datasets/\"\n",
        "\n",
        "\n",
        "# Hacemos lo mismo con los datos de test\n",
        "keras.utils.get_file(fname=\"simpsons_test.tar.gz\", \n",
        "                     origin=\"https://onedrive.live.com/download?cid=C506CF0A4F373B0F&resid=C506CF0A4F373B0F%219341&authkey=ANnjK3Uq1FhuAe8\")\n",
        "!tar -xzf \"/Users/baudi/.keras/datasets/simpsons_test.tar.gz\" -C \"/Users/baudi/AI/datasets/\""
      ]
    },
    {
      "cell_type": "code",
      "execution_count": null,
      "metadata": {
        "id": "_HIhp512sPUJ"
      },
      "outputs": [],
      "source": [
        "# Descomprimimos el archivo en tmp para visualizar\n",
        "# !tar -xzf /root/.keras/datasets/simpsons_train.tar.gz -C /tmp/simpsons"
      ]
    },
    {
      "cell_type": "code",
      "execution_count": 2,
      "metadata": {
        "id": "hMFhe3COFwSD"
      },
      "outputs": [],
      "source": [
        "# Esta variable contiene un mapeo de número de clase a personaje.\n",
        "# Utilizamos sólo los 18 personajes del dataset que tienen más imágenes.\n",
        "MAP_CHARACTERS = {\n",
        "    0: 'abraham_grampa_simpson', 1: 'apu_nahasapeemapetilon', 2: 'bart_simpson',\n",
        "    3: 'charles_montgomery_burns', 4: 'chief_wiggum', 5: 'comic_book_guy', 6: 'edna_krabappel', \n",
        "    7: 'homer_simpson', 8: 'kent_brockman', 9: 'krusty_the_clown', 10: 'lisa_simpson', \n",
        "    11: 'marge_simpson', 12: 'milhouse_van_houten', 13: 'moe_szyslak', \n",
        "    14: 'ned_flanders', 15: 'nelson_muntz', 16: 'principal_skinner', 17: 'sideshow_bob'\n",
        "}\n",
        "\n",
        "# Vamos a standarizar todas las imágenes a tamaño 64x64\n",
        "IMG_SIZE = 60"
      ]
    },
    {
      "cell_type": "code",
      "execution_count": 3,
      "metadata": {
        "id": "5bJ0NsbCbupF"
      },
      "outputs": [],
      "source": [
        "def load_train_set(dirname, map_characters, verbose=True):\n",
        "    \"\"\"Esta función carga los datos de training en imágenes.\n",
        "    \n",
        "    Como las imágenes tienen tamaños distintas, utilizamos la librería opencv\n",
        "    para hacer un resize y adaptarlas todas a tamaño IMG_SIZE x IMG_SIZE.\n",
        "    \n",
        "    Args:\n",
        "        dirname: directorio completo del que leer los datos\n",
        "        map_characters: variable de mapeo entre labels y personajes\n",
        "        verbose: si es True, muestra información de las imágenes cargadas\n",
        "     \n",
        "    Returns:\n",
        "        X, y: X es un array con todas las imágenes cargadas con tamaño\n",
        "                IMG_SIZE x IMG_SIZE\n",
        "              y es un array con las labels de correspondientes a cada imagen\n",
        "    \"\"\"\n",
        "    X_train = []\n",
        "    y_train = []\n",
        "    for label, character in map_characters.items():        \n",
        "        files = os.listdir(os.path.join(dirname, character))\n",
        "        images = [file for file in files if file.endswith(\"jpg\")]\n",
        "        if verbose:\n",
        "          print(\"Leyendo {} imágenes encontradas de {}\".format(len(images), character))\n",
        "        for image_name in images:\n",
        "            image = cv2.imread(os.path.join(dirname, character, image_name))\n",
        "            X_train.append(cv2.resize(image,(IMG_SIZE, IMG_SIZE)))\n",
        "            y_train.append(label)\n",
        "    return np.array(X_train), np.array(y_train)"
      ]
    },
    {
      "cell_type": "code",
      "execution_count": 4,
      "metadata": {
        "id": "NslxhnnDK6uA"
      },
      "outputs": [],
      "source": [
        "def load_test_set(dirname, map_characters, verbose=True):\n",
        "    \"\"\"Esta función funciona de manera equivalente a la función load_train_set\n",
        "    pero cargando los datos de test.\"\"\"\n",
        "    X_test = []\n",
        "    y_test = []\n",
        "    reverse_dict = {v: k for k, v in map_characters.items()}\n",
        "    for filename in glob.glob(dirname + '/*.*'):\n",
        "        char_name = \"_\".join(filename.split('/')[-1].split('_')[:-1])\n",
        "        if char_name in reverse_dict:\n",
        "            image = cv2.imread(filename)\n",
        "            image = cv2.resize(image, (IMG_SIZE, IMG_SIZE))\n",
        "            X_test.append(image)\n",
        "            y_test.append(reverse_dict[char_name])\n",
        "    if verbose:\n",
        "        print(\"Leídas {} imágenes de test\".format(len(X_test)))\n",
        "    return np.array(X_test), np.array(y_test)\n"
      ]
    },
    {
      "cell_type": "code",
      "execution_count": 7,
      "metadata": {
        "colab": {
          "base_uri": "https://localhost:8080/"
        },
        "id": "WVWqKxFcbwTu",
        "outputId": "92f5a4ba-9979-4023-e657-beb02ed17a4a"
      },
      "outputs": [
        {
          "name": "stdout",
          "output_type": "stream",
          "text": [
            "Leyendo 913 imágenes encontradas de abraham_grampa_simpson\n",
            "Leyendo 623 imágenes encontradas de apu_nahasapeemapetilon\n",
            "Leyendo 1342 imágenes encontradas de bart_simpson\n",
            "Leyendo 1193 imágenes encontradas de charles_montgomery_burns\n",
            "Leyendo 986 imágenes encontradas de chief_wiggum\n",
            "Leyendo 469 imágenes encontradas de comic_book_guy\n",
            "Leyendo 457 imágenes encontradas de edna_krabappel\n",
            "Leyendo 2246 imágenes encontradas de homer_simpson\n",
            "Leyendo 498 imágenes encontradas de kent_brockman\n",
            "Leyendo 1206 imágenes encontradas de krusty_the_clown\n",
            "Leyendo 1354 imágenes encontradas de lisa_simpson\n",
            "Leyendo 1291 imágenes encontradas de marge_simpson\n",
            "Leyendo 1079 imágenes encontradas de milhouse_van_houten\n",
            "Leyendo 1452 imágenes encontradas de moe_szyslak\n",
            "Leyendo 1454 imágenes encontradas de ned_flanders\n",
            "Leyendo 358 imágenes encontradas de nelson_muntz\n",
            "Leyendo 1194 imágenes encontradas de principal_skinner\n",
            "Leyendo 877 imágenes encontradas de sideshow_bob\n",
            "Leídas 890 imágenes de test\n"
          ]
        }
      ],
      "source": [
        "# Cargamos los datos. Si no estás trabajando en colab, cambia los paths por\n",
        "# los de los ficheros donde hayas descargado los datos.\n",
        "DATASET_TRAIN_PATH_COLAB = \"/Users/baudi/AI/datasets/simpsons\"\n",
        "DATASET_TEST_PATH_COLAB = \"/Users/baudi/AI/datasets/simpsons_testset\"\n",
        "\n",
        "X, y = load_train_set(DATASET_TRAIN_PATH_COLAB, MAP_CHARACTERS)\n",
        "X_t, y_t = load_test_set(DATASET_TEST_PATH_COLAB, MAP_CHARACTERS)"
      ]
    },
    {
      "cell_type": "code",
      "execution_count": 8,
      "metadata": {
        "id": "2GY4vTFyfffv"
      },
      "outputs": [],
      "source": [
        "# Vamos a barajar aleatoriamente los datos. Esto es importante ya que si no\n",
        "# lo hacemos y, por ejemplo, cogemos el 20% de los datos finales como validation\n",
        "# set, estaremos utilizando solo un pequeño número de personajes, ya que\n",
        "# las imágenes se leen secuencialmente personaje a personaje.\n",
        "perm = np.random.permutation(len(X))\n",
        "X, y = X[perm], y[perm]"
      ]
    },
    {
      "cell_type": "code",
      "execution_count": 9,
      "metadata": {
        "colab": {
          "base_uri": "https://localhost:8080/",
          "height": 285
        },
        "id": "IOoQ7_0GrylF",
        "outputId": "d319840d-1397-444a-ed11-19aa94f59438"
      },
      "outputs": [
        {
          "data": {
            "text/plain": [
              "<matplotlib.image.AxesImage at 0x2ca707e50>"
            ]
          },
          "execution_count": 9,
          "metadata": {},
          "output_type": "execute_result"
        },
        {
          "data": {
            "image/png": "[encoded data removed]",
            "text/plain": [
              "<Figure size 640x480 with 1 Axes>"
            ]
          },
          "metadata": {},
          "output_type": "display_data"
        }
      ],
      "source": [
        "plt.imshow(X_t[2]) # recordad que siempre es preferible trabajar en blanco y negro\n"
      ]
    },
    {
      "attachments": {},
      "cell_type": "markdown",
      "metadata": {
        "id": "pBbmz9DMhVhc"
      },
      "source": [
        "## Ejercicio\n",
        "\n",
        "Utilizando Convolutional Neural Networks con Keras, entrenar un clasificador que sea capaz de reconocer personajes en imágenes de los Simpsons con una accuracy en el dataset de test de, al menos, **85%**. Redactar un informe analizando varias de las alternativas probadas y los resultados obtenidos.\n",
        "\n",
        "A continuación se detallan una serie de aspectos orientativos que podrían ser analizados en vuestro informe (no es necesario tratar todos ellos ni mucho menos, esto son ideas orientativas de aspectos que podéis explorar):\n",
        "\n",
        "*   Análisis de los datos a utilizar.\n",
        "*   Análisis de resultados, obtención de métricas de *precision* y *recall* por clase y análisis de qué clases obtienen mejores o peores resultados.\n",
        "*   Análisis visual de los errores de la red. ¿Qué tipo de imágenes o qué personajes dan más problemas a nuestro modelo?\n",
        "*   Comparación de modelos CNNs con un modelo de Fully Connected para este problema.\n",
        "*   Utilización de distintas arquitecturas CNNs, comentando aspectos como su profundidad, hiperparámetros utilizados, optimizador, uso de técnicas de regularización, *batch normalization*, etc.\n",
        "*   [ *algo más difícil* ] Utilización de *data augmentation*. Esto puede conseguirse con la clase [ImageDataGenerator](https://keras.io/preprocessing/image/#imagedatagenerator-class) de Keras.\n",
        "\n",
        "Notas: \n",
        "* Recuerda partir los datos en training/validation para tener una buena estimación de los valores que nuestro modelo tendrá en los datos de test, así como comprobar que no estamos cayendo en overfitting. Una posible partición puede ser 80 / 20.\n",
        "* No es necesario mostrar en el notebook las trazas de entrenamiento de todos los modelos entrenados, si bien una buena idea seria guardar gráficas de esos entrenamientos para el análisis. Sin embargo, **se debe mostrar el entrenamiento completo del mejor modelo obtenido y la evaluación de los datos de test con este modelo**.\n",
        "* Las imágenes **no están normalizadas**. Hay que normalizarlas como hemos hecho en trabajos anteriores.\n",
        "* El test set del problema tiene imágenes un poco más \"fáciles\", por lo que es posible encontrarse con métricas en el test set bastante mejores que en el training set."
      ]
    },
    {
      "attachments": {},
      "cell_type": "markdown",
      "metadata": {},
      "source": [
        "Se normalizan los valores de los datasets de training y test para que estén entre 0 y 1"
      ]
    },
    {
      "cell_type": "code",
      "execution_count": 10,
      "metadata": {
        "id": "PyqZAqGTrkTL"
      },
      "outputs": [],
      "source": [
        "X  = X / 255.0\n",
        "X_t= X_t / 255.0\n",
        "\n"
      ]
    },
    {
      "attachments": {},
      "cell_type": "markdown",
      "metadata": {},
      "source": [
        "Se proporciona información de los datos a utilizar"
      ]
    },
    {
      "cell_type": "code",
      "execution_count": 11,
      "metadata": {
        "id": "A-XZdD0juRQM"
      },
      "outputs": [
        {
          "name": "stdout",
          "output_type": "stream",
          "text": [
            "Número de imágenes de training: 18992\n",
            "Número de imágenes de test: 890\n",
            "El tamaño de las imágenes es: 60 x 60\n"
          ]
        }
      ],
      "source": [
        "#número de imágenes training\n",
        "print(f\"Número de imágenes de training: {X.shape[0]}\")\n",
        "#número de imágenes test\n",
        "print(f\"Número de imágenes de test: {X_t.shape[0]}\")\n",
        "# Se obtiene el tamaño de una imagen de entrenamiento\n",
        "print(f\"El tamaño de las imágenes es: {X.shape[1]} x {X.shape[2]}\")"
      ]
    },
    {
      "attachments": {},
      "cell_type": "markdown",
      "metadata": {},
      "source": [
        "Se crea el dataset de validación en una proporción 80:20 respecto al de training original"
      ]
    },
    {
      "cell_type": "code",
      "execution_count": 12,
      "metadata": {
        "id": "6AEVl-3quRSt"
      },
      "outputs": [
        {
          "name": "stdout",
          "output_type": "stream",
          "text": [
            "Número de imágenes de training: 15193\n",
            "Número de imágenes de validación: 3799\n"
          ]
        }
      ],
      "source": [
        "#Dividimos el juego de datos de train, en 80% para entrenar el modelo y 20% para validarlo\n",
        "train_images, val_images, train_labels, val_labels = train_test_split(X, y, test_size=0.2, random_state=42)\n",
        "\n",
        "print(f\"Número de imágenes de training: {train_images.shape[0]}\")\n",
        "#número de imágenes validación\n",
        "print(f\"Número de imágenes de validación: {val_images.shape[0]}\")\n",
        "\n"
      ]
    },
    {
      "attachments": {},
      "cell_type": "markdown",
      "metadata": {},
      "source": [
        "Se plantea el primer modelo de CNN"
      ]
    },
    {
      "cell_type": "code",
      "execution_count": 13,
      "metadata": {},
      "outputs": [],
      "source": [
        "from tensorflow.keras.applications import ResNet50, VGG16, VGG19, InceptionResNetV2\n",
        "from sklearn.metrics import classification_report, confusion_matrix\n",
        "import tensorflow as tf\n",
        "from tensorflow.keras.models import Model, Sequential\n",
        "from tensorflow.keras.layers import Conv2D, BatchNormalization, MaxPooling2D, Flatten, Dense, Dropout, GlobalAveragePooling2D, Activation\n",
        "from sklearn.model_selection import train_test_split\n",
        "from tensorflow.keras.optimizers import Adam, SGD\n",
        "from tensorflow.keras.callbacks import EarlyStopping, ReduceLROnPlateau\n",
        "\n",
        "\n",
        "img_height = 60\n",
        "img_width = 60\n",
        "batch_size = 32\n",
        "val_split = 0.2\n",
        "seed = 42\n",
        "num_classes = 4\n",
        "learning_rate = 0.001\n"
      ]
    },
    {
      "attachments": {},
      "cell_type": "markdown",
      "metadata": {},
      "source": [
        "Se pasan los labels a variables categóricas"
      ]
    },
    {
      "cell_type": "code",
      "execution_count": 14,
      "metadata": {},
      "outputs": [
        {
          "name": "stdout",
          "output_type": "stream",
          "text": [
            "15193\n",
            "3799\n"
          ]
        }
      ],
      "source": [
        "from keras.utils import to_categorical\n",
        "training_labels = to_categorical(train_labels, num_classes=18)\n",
        "print(len(training_labels))\n",
        "validation_labels = to_categorical(val_labels, num_classes=18)\n",
        "print(len(val_labels))\n",
        "\n",
        "\n"
      ]
    },
    {
      "attachments": {},
      "cell_type": "markdown",
      "metadata": {},
      "source": [
        "Se construye el primer modelo"
      ]
    },
    {
      "cell_type": "code",
      "execution_count": 15,
      "metadata": {},
      "outputs": [],
      "source": [
        "def build_model():\n",
        "    model = tf.keras.models.Sequential([\n",
        "        Conv2D(64, (3, 3), activation='relu', padding='same', input_shape=(60, 60, 3)),\n",
        "        BatchNormalization(),\n",
        "        MaxPooling2D(pool_size=(2, 2)),\n",
        "        \n",
        "        Conv2D(128, (3, 3), activation='relu', padding='same'),\n",
        "        BatchNormalization(),\n",
        "        MaxPooling2D(pool_size=(2, 2)),\n",
        "        \n",
        "        Conv2D(256, (3, 3), activation='relu', padding='same'),\n",
        "        BatchNormalization(),\n",
        "        MaxPooling2D(pool_size=(2, 2)),\n",
        "\n",
        "        Conv2D(512, (3, 3), activation='relu', padding='same'),\n",
        "        BatchNormalization(),\n",
        "        MaxPooling2D(pool_size=(2, 2)),\n",
        "\n",
        "        Flatten(),\n",
        "        Dense(4096, activation='relu'),\n",
        "        BatchNormalization(),\n",
        "        Dropout(0.5),\n",
        "        Dense(2048, activation='relu'),\n",
        "        BatchNormalization(),\n",
        "        Dropout(0.5),\n",
        "        Dense(1024, activation='relu'),\n",
        "        BatchNormalization(),\n",
        "        Dropout(0.5),        \n",
        "        Dense(18, activation='softmax')  # 4 clases: sanas, enfermedad1, enfermedad2, enfermedad3\n",
        "     ])\n",
        "    print(model.summary())\n",
        "    return model"
      ]
    },
    {
      "attachments": {},
      "cell_type": "markdown",
      "metadata": {},
      "source": [
        "Se entrena el primer modelo"
      ]
    },
    {
      "cell_type": "code",
      "execution_count": 56,
      "metadata": {},
      "outputs": [
        {
          "name": "stdout",
          "output_type": "stream",
          "text": [
            "Model: \"sequential_12\"\n",
            "_________________________________________________________________\n",
            " Layer (type)                Output Shape              Param #   \n",
            "=================================================================\n",
            " conv2d_46 (Conv2D)          (None, 60, 60, 64)        1792      \n",
            "                                                                 \n",
            " batch_normalization_28 (Bat  (None, 60, 60, 64)       256       \n",
            " chNormalization)                                                \n",
            "                                                                 \n",
            " max_pooling2d_40 (MaxPoolin  (None, 30, 30, 64)       0         \n",
            " g2D)                                                            \n",
            "                                                                 \n",
            " conv2d_47 (Conv2D)          (None, 30, 30, 128)       73856     \n",
            "                                                                 \n",
            " batch_normalization_29 (Bat  (None, 30, 30, 128)      512       \n",
            " chNormalization)                                                \n",
            "                                                                 \n",
            " max_pooling2d_41 (MaxPoolin  (None, 15, 15, 128)      0         \n",
            " g2D)                                                            \n",
            "                                                                 \n",
            " conv2d_48 (Conv2D)          (None, 15, 15, 256)       295168    \n",
            "                                                                 \n",
            " batch_normalization_30 (Bat  (None, 15, 15, 256)      1024      \n",
            " chNormalization)                                                \n",
            "                                                                 \n",
            " max_pooling2d_42 (MaxPoolin  (None, 7, 7, 256)        0         \n",
            " g2D)                                                            \n",
            "                                                                 \n",
            " conv2d_49 (Conv2D)          (None, 7, 7, 512)         1180160   \n",
            "                                                                 \n",
            " batch_normalization_31 (Bat  (None, 7, 7, 512)        2048      \n",
            " chNormalization)                                                \n",
            "                                                                 \n",
            " max_pooling2d_43 (MaxPoolin  (None, 3, 3, 512)        0         \n",
            " g2D)                                                            \n",
            "                                                                 \n",
            " flatten_12 (Flatten)        (None, 4608)              0         \n",
            "                                                                 \n",
            " dense_33 (Dense)            (None, 4096)              18878464  \n",
            "                                                                 \n",
            " batch_normalization_32 (Bat  (None, 4096)             16384     \n",
            " chNormalization)                                                \n",
            "                                                                 \n",
            " dropout_20 (Dropout)        (None, 4096)              0         \n",
            "                                                                 \n",
            " dense_34 (Dense)            (None, 2048)              8390656   \n",
            "                                                                 \n",
            " batch_normalization_33 (Bat  (None, 2048)             8192      \n",
            " chNormalization)                                                \n",
            "                                                                 \n",
            " dropout_21 (Dropout)        (None, 2048)              0         \n",
            "                                                                 \n",
            " dense_35 (Dense)            (None, 1024)              2098176   \n",
            "                                                                 \n",
            " batch_normalization_34 (Bat  (None, 1024)             4096      \n",
            " chNormalization)                                                \n",
            "                                                                 \n",
            " dropout_22 (Dropout)        (None, 1024)              0         \n",
            "                                                                 \n",
            " dense_36 (Dense)            (None, 18)                18450     \n",
            "                                                                 \n",
            "=================================================================\n",
            "Total params: 30,969,234\n",
            "Trainable params: 30,952,978\n",
            "Non-trainable params: 16,256\n",
            "_________________________________________________________________\n",
            "None\n",
            "Epoch 1/20\n"
          ]
        },
        {
          "name": "stderr",
          "output_type": "stream",
          "text": [
            "2023-05-15 23:13:52.057099: I tensorflow/core/grappler/optimizers/custom_graph_optimizer_registry.cc:113] Plugin optimizer for device_type GPU is enabled.\n"
          ]
        },
        {
          "name": "stdout",
          "output_type": "stream",
          "text": [
            "475/475 [==============================] - ETA: 0s - loss: 2.5391 - accuracy: 0.3667"
          ]
        },
        {
          "name": "stderr",
          "output_type": "stream",
          "text": [
            "2023-05-15 23:14:12.943342: I tensorflow/core/grappler/optimizers/custom_graph_optimizer_registry.cc:113] Plugin optimizer for device_type GPU is enabled.\n"
          ]
        },
        {
          "name": "stdout",
          "output_type": "stream",
          "text": [
            "475/475 [==============================] - 23s 46ms/step - loss: 2.5391 - accuracy: 0.3667 - val_loss: 1.8267 - val_accuracy: 0.4349\n",
            "Epoch 2/20\n",
            "475/475 [==============================] - 20s 42ms/step - loss: 1.1444 - accuracy: 0.6599 - val_loss: 1.3444 - val_accuracy: 0.6133\n",
            "Epoch 3/20\n",
            "475/475 [==============================] - 20s 42ms/step - loss: 0.7313 - accuracy: 0.7837 - val_loss: 1.2615 - val_accuracy: 0.6402\n",
            "Epoch 4/20\n",
            "475/475 [==============================] - 20s 42ms/step - loss: 0.5426 - accuracy: 0.8408 - val_loss: 0.7105 - val_accuracy: 0.7989\n",
            "Epoch 5/20\n",
            "475/475 [==============================] - 20s 42ms/step - loss: 0.4265 - accuracy: 0.8756 - val_loss: 0.5475 - val_accuracy: 0.8455\n",
            "Epoch 6/20\n",
            "475/475 [==============================] - 20s 42ms/step - loss: 0.3402 - accuracy: 0.8988 - val_loss: 0.5240 - val_accuracy: 0.8494\n",
            "Epoch 7/20\n",
            "475/475 [==============================] - 20s 42ms/step - loss: 0.2962 - accuracy: 0.9150 - val_loss: 0.5857 - val_accuracy: 0.8171\n",
            "Epoch 8/20\n",
            "475/475 [==============================] - 20s 42ms/step - loss: 0.2569 - accuracy: 0.9238 - val_loss: 0.7128 - val_accuracy: 0.8007\n",
            "Epoch 9/20\n",
            "475/475 [==============================] - 20s 42ms/step - loss: 0.2022 - accuracy: 0.9404 - val_loss: 0.4498 - val_accuracy: 0.8755\n",
            "Epoch 10/20\n",
            "475/475 [==============================] - 20s 42ms/step - loss: 0.1961 - accuracy: 0.9418 - val_loss: 0.6040 - val_accuracy: 0.8321\n",
            "Epoch 11/20\n",
            "475/475 [==============================] - 20s 42ms/step - loss: 0.1604 - accuracy: 0.9539 - val_loss: 0.7696 - val_accuracy: 0.7971\n",
            "Epoch 12/20\n",
            "475/475 [==============================] - 20s 42ms/step - loss: 0.1574 - accuracy: 0.9534 - val_loss: 0.4869 - val_accuracy: 0.8713\n",
            "Epoch 13/20\n",
            "475/475 [==============================] - 20s 42ms/step - loss: 0.1341 - accuracy: 0.9605 - val_loss: 0.4287 - val_accuracy: 0.8863\n",
            "Epoch 14/20\n",
            "475/475 [==============================] - 20s 42ms/step - loss: 0.1319 - accuracy: 0.9630 - val_loss: 0.4713 - val_accuracy: 0.8831\n",
            "Epoch 15/20\n",
            "475/475 [==============================] - 20s 42ms/step - loss: 0.0938 - accuracy: 0.9714 - val_loss: 0.4197 - val_accuracy: 0.8937\n",
            "Epoch 16/20\n",
            "475/475 [==============================] - 20s 42ms/step - loss: 0.0959 - accuracy: 0.9701 - val_loss: 0.6789 - val_accuracy: 0.8281\n",
            "Epoch 17/20\n",
            "475/475 [==============================] - 20s 42ms/step - loss: 0.1088 - accuracy: 0.9689 - val_loss: 0.4220 - val_accuracy: 0.8913\n",
            "Epoch 18/20\n",
            "475/475 [==============================] - 20s 42ms/step - loss: 0.0747 - accuracy: 0.9772 - val_loss: 0.3561 - val_accuracy: 0.9163\n",
            "Epoch 19/20\n",
            "475/475 [==============================] - 20s 43ms/step - loss: 0.0876 - accuracy: 0.9751 - val_loss: 0.8080 - val_accuracy: 0.7997\n",
            "Epoch 20/20\n",
            "475/475 [==============================] - 20s 42ms/step - loss: 0.1178 - accuracy: 0.9681 - val_loss: 0.3241 - val_accuracy: 0.9173\n"
          ]
        }
      ],
      "source": [
        "model = build_model()\n",
        "model.compile(loss = 'categorical_crossentropy', optimizer=Adam(learning_rate=learning_rate), metrics=['accuracy'])\n",
        "history = model.fit(train_images, training_labels, epochs=20, batch_size=32, validation_data=(val_images, validation_labels))\n"
      ]
    },
    {
      "attachments": {},
      "cell_type": "markdown",
      "metadata": {},
      "source": [
        "Se evalua el modelo con los datos de test"
      ]
    },
    {
      "cell_type": "code",
      "execution_count": 57,
      "metadata": {},
      "outputs": [
        {
          "name": "stdout",
          "output_type": "stream",
          "text": [
            "28/28 [==============================] - 1s 17ms/step - loss: 0.1134 - accuracy: 0.9685\n",
            "Test Loss:  0.11342059075832367\n",
            "Test Accuracy:  0.968539297580719\n"
          ]
        }
      ],
      "source": [
        "test_labels = to_categorical(y_t, num_classes=18)\n",
        "test_loss, test_accuracy = model.evaluate(X_t, test_labels)\n",
        "print(\"Test Loss: \", test_loss)\n",
        "print(\"Test Accuracy: \", test_accuracy)"
      ]
    },
    {
      "attachments": {},
      "cell_type": "markdown",
      "metadata": {},
      "source": [
        "Se crea la matriz de confusión y el classification report para ver como se han comportado cada una de las clases"
      ]
    },
    {
      "cell_type": "code",
      "execution_count": 48,
      "metadata": {},
      "outputs": [
        {
          "name": "stdout",
          "output_type": "stream",
          "text": [
            " 1/28 [>.............................] - ETA: 5s"
          ]
        },
        {
          "name": "stderr",
          "output_type": "stream",
          "text": [
            "2023-05-15 22:59:20.681741: I tensorflow/core/grappler/optimizers/custom_graph_optimizer_registry.cc:113] Plugin optimizer for device_type GPU is enabled.\n"
          ]
        },
        {
          "name": "stdout",
          "output_type": "stream",
          "text": [
            "28/28 [==============================] - 0s 10ms/step\n",
            "Classification Report:\n",
            "                          precision    recall  f1-score   support\n",
            "\n",
            "  abraham_grampa_simpson       1.00      0.96      0.98        48\n",
            "  apu_nahasapeemapetilon       0.94      0.98      0.96        50\n",
            "            bart_simpson       0.91      1.00      0.95        50\n",
            "charles_montgomery_burns       0.98      0.96      0.97        48\n",
            "            chief_wiggum       0.94      0.98      0.96        50\n",
            "          comic_book_guy       0.98      0.98      0.98        49\n",
            "          edna_krabappel       1.00      0.90      0.95        50\n",
            "           homer_simpson       0.94      0.98      0.96        50\n",
            "           kent_brockman       1.00      0.98      0.99        50\n",
            "        krusty_the_clown       1.00      1.00      1.00        50\n",
            "            lisa_simpson       1.00      0.88      0.94        50\n",
            "           marge_simpson       0.91      1.00      0.95        50\n",
            "     milhouse_van_houten       0.96      0.98      0.97        49\n",
            "             moe_szyslak       0.96      0.94      0.95        50\n",
            "            ned_flanders       0.94      1.00      0.97        49\n",
            "            nelson_muntz       1.00      0.96      0.98        50\n",
            "       principal_skinner       1.00      0.98      0.99        50\n",
            "            sideshow_bob       1.00      0.98      0.99        47\n",
            "\n",
            "                accuracy                           0.97       890\n",
            "               macro avg       0.97      0.97      0.97       890\n",
            "            weighted avg       0.97      0.97      0.97       890\n",
            "\n",
            "Confusion Matrix:\n",
            "[[46  1  0  0  0  0  0  1  0  0  0  0  0  0  0  0  0  0]\n",
            " [ 0 49  0  0  0  0  0  0  0  0  0  0  0  0  1  0  0  0]\n",
            " [ 0  0 50  0  0  0  0  0  0  0  0  0  0  0  0  0  0  0]\n",
            " [ 0  1  0 46  0  0  0  0  0  0  0  0  1  0  0  0  0  0]\n",
            " [ 0  0  0  0 49  0  0  0  0  0  0  0  0  1  0  0  0  0]\n",
            " [ 0  0  0  0  0 48  0  1  0  0  0  0  0  0  0  0  0  0]\n",
            " [ 0  1  0  0  0  0 45  0  0  0  0  3  0  0  1  0  0  0]\n",
            " [ 0  0  1  0  0  0  0 49  0  0  0  0  0  0  0  0  0  0]\n",
            " [ 0  0  0  0  1  0  0  0 49  0  0  0  0  0  0  0  0  0]\n",
            " [ 0  0  0  0  0  0  0  0  0 50  0  0  0  0  0  0  0  0]\n",
            " [ 0  0  4  0  0  0  0  0  0  0 44  1  1  0  0  0  0  0]\n",
            " [ 0  0  0  0  0  0  0  0  0  0  0 50  0  0  0  0  0  0]\n",
            " [ 0  0  0  0  0  0  0  0  0  0  0  1 48  0  0  0  0  0]\n",
            " [ 0  0  0  1  1  1  0  0  0  0  0  0  0 47  0  0  0  0]\n",
            " [ 0  0  0  0  0  0  0  0  0  0  0  0  0  0 49  0  0  0]\n",
            " [ 0  0  0  0  1  0  0  0  0  0  0  0  0  0  1 48  0  0]\n",
            " [ 0  0  0  0  0  0  0  0  0  0  0  0  0  1  0  0 49  0]\n",
            " [ 0  0  0  0  0  0  0  1  0  0  0  0  0  0  0  0  0 46]]\n"
          ]
        }
      ],
      "source": [
        "class_names = [MAP_CHARACTERS[i] for i in range(len(MAP_CHARACTERS))]\n",
        "\n",
        "# Matriz de confusión y métricas adicionales\n",
        "Y_pred = model.predict(X_t)\n",
        "y_pred = np.argmax(Y_pred, axis=1)\n",
        "\n",
        "print('Classification Report:')\n",
        "print(classification_report(y_t, y_pred, target_names=class_names))\n",
        "\n",
        "print('Confusion Matrix:')\n",
        "print(confusion_matrix(y_t, y_pred))"
      ]
    },
    {
      "attachments": {},
      "cell_type": "markdown",
      "metadata": {},
      "source": [
        "Se crea un segundo modelo, en este caso de Transfer Learning usando como base la red pre-etrenada VGG19"
      ]
    },
    {
      "cell_type": "code",
      "execution_count": 62,
      "metadata": {},
      "outputs": [],
      "source": [
        "def build_modelVGG19():\n",
        "    # Cargar la red pre-entrenada VGG19\n",
        "    base_model = VGG19(weights='imagenet', include_top=False, input_shape=(img_height, img_width, 3))\n",
        "    \n",
        "    # Congelar todas las capas de la red base excepto las últimas 12\n",
        "    for layer in base_model.layers[:-12]:\n",
        "        layer.trainable = False\n",
        "        \n",
        "    # Añadir capas adicionales para la clasificación\n",
        "    x = base_model.output\n",
        "    x = GlobalAveragePooling2D()(x)\n",
        "    x = Dense(1024, activation='relu')(x)\n",
        "    x = Dropout(0.5)(x)\n",
        "    x = Dense(512, activation='relu')(x)\n",
        "    x = Dropout(0.5)(x)\n",
        "    output = Dense(18, activation='softmax')(x)\n",
        "    \n",
        "    # Crear el modelo final\n",
        "    model = Model(inputs=base_model.input, outputs=output)\n",
        "    \n",
        "    # Compilar el modelo\n",
        "    model.compile(optimizer=Adam(learning_rate=0.0001),\n",
        "                  loss='categorical_crossentropy',\n",
        "                  metrics=['accuracy'])\n",
        "    \n",
        "    return model"
      ]
    },
    {
      "attachments": {},
      "cell_type": "markdown",
      "metadata": {},
      "source": [
        "Se entrena el modelo"
      ]
    },
    {
      "cell_type": "code",
      "execution_count": 63,
      "metadata": {},
      "outputs": [
        {
          "name": "stdout",
          "output_type": "stream",
          "text": [
            "Epoch 1/20\n"
          ]
        },
        {
          "name": "stderr",
          "output_type": "stream",
          "text": [
            "2023-05-15 23:38:43.777939: I tensorflow/core/grappler/optimizers/custom_graph_optimizer_registry.cc:113] Plugin optimizer for device_type GPU is enabled.\n"
          ]
        },
        {
          "name": "stdout",
          "output_type": "stream",
          "text": [
            "238/238 [==============================] - ETA: 0s - loss: 2.8264 - accuracy: 0.1013"
          ]
        },
        {
          "name": "stderr",
          "output_type": "stream",
          "text": [
            "2023-05-15 23:39:05.121380: I tensorflow/core/grappler/optimizers/custom_graph_optimizer_registry.cc:113] Plugin optimizer for device_type GPU is enabled.\n"
          ]
        },
        {
          "name": "stdout",
          "output_type": "stream",
          "text": [
            "238/238 [==============================] - 25s 99ms/step - loss: 2.8264 - accuracy: 0.1013 - val_loss: 2.6328 - val_accuracy: 0.1171\n",
            "Epoch 2/20\n",
            "238/238 [==============================] - 22s 94ms/step - loss: 2.2279 - accuracy: 0.2809 - val_loss: 1.6981 - val_accuracy: 0.4417\n",
            "Epoch 3/20\n",
            "238/238 [==============================] - 22s 94ms/step - loss: 1.2765 - accuracy: 0.6095 - val_loss: 0.8295 - val_accuracy: 0.7799\n",
            "Epoch 4/20\n",
            "238/238 [==============================] - 22s 94ms/step - loss: 0.6229 - accuracy: 0.8263 - val_loss: 0.6201 - val_accuracy: 0.8379\n",
            "Epoch 5/20\n",
            "238/238 [==============================] - 22s 94ms/step - loss: 0.3844 - accuracy: 0.8938 - val_loss: 0.4984 - val_accuracy: 0.8681\n",
            "Epoch 6/20\n",
            "238/238 [==============================] - 23s 95ms/step - loss: 0.2642 - accuracy: 0.9279 - val_loss: 0.5329 - val_accuracy: 0.8610\n",
            "Epoch 7/20\n",
            "238/238 [==============================] - 23s 96ms/step - loss: 0.1911 - accuracy: 0.9475 - val_loss: 0.4965 - val_accuracy: 0.8865\n",
            "Epoch 8/20\n",
            "238/238 [==============================] - 22s 94ms/step - loss: 0.1438 - accuracy: 0.9606 - val_loss: 0.5508 - val_accuracy: 0.8789\n",
            "Epoch 9/20\n",
            "238/238 [==============================] - 22s 94ms/step - loss: 0.1047 - accuracy: 0.9728 - val_loss: 0.4944 - val_accuracy: 0.8971\n",
            "Epoch 10/20\n",
            "238/238 [==============================] - 22s 94ms/step - loss: 0.0733 - accuracy: 0.9806 - val_loss: 0.5181 - val_accuracy: 0.8939\n",
            "Epoch 11/20\n",
            "238/238 [==============================] - 22s 94ms/step - loss: 0.0806 - accuracy: 0.9781 - val_loss: 0.5040 - val_accuracy: 0.8973\n",
            "Epoch 12/20\n",
            "238/238 [==============================] - 22s 94ms/step - loss: 0.0862 - accuracy: 0.9776 - val_loss: 0.5153 - val_accuracy: 0.8837\n",
            "Epoch 13/20\n",
            "238/238 [==============================] - 22s 94ms/step - loss: 0.0704 - accuracy: 0.9818 - val_loss: 0.5009 - val_accuracy: 0.9018\n",
            "Epoch 14/20\n",
            "238/238 [==============================] - 22s 94ms/step - loss: 0.0528 - accuracy: 0.9859 - val_loss: 0.5008 - val_accuracy: 0.8976\n",
            "Epoch 15/20\n",
            "238/238 [==============================] - 23s 95ms/step - loss: 0.0404 - accuracy: 0.9897 - val_loss: 0.5174 - val_accuracy: 0.8997\n",
            "Epoch 16/20\n",
            "238/238 [==============================] - 23s 95ms/step - loss: 0.0409 - accuracy: 0.9895 - val_loss: 0.5077 - val_accuracy: 0.8939\n",
            "Epoch 17/20\n",
            "238/238 [==============================] - 22s 94ms/step - loss: 0.0385 - accuracy: 0.9903 - val_loss: 0.5742 - val_accuracy: 0.8889\n",
            "Epoch 18/20\n",
            "238/238 [==============================] - 22s 94ms/step - loss: 0.0649 - accuracy: 0.9835 - val_loss: 0.5413 - val_accuracy: 0.8926\n",
            "Epoch 19/20\n",
            "238/238 [==============================] - 23s 96ms/step - loss: 0.0310 - accuracy: 0.9922 - val_loss: 0.7159 - val_accuracy: 0.8658\n",
            "Epoch 20/20\n",
            "238/238 [==============================] - 22s 94ms/step - loss: 0.0356 - accuracy: 0.9915 - val_loss: 0.5865 - val_accuracy: 0.8981\n"
          ]
        }
      ],
      "source": [
        "modelvgg19 = build_modelVGG19()\n",
        "history = modelvgg19.fit(train_images, training_labels, epochs=20, batch_size=64, validation_data=(val_images, validation_labels))\n"
      ]
    },
    {
      "attachments": {},
      "cell_type": "markdown",
      "metadata": {},
      "source": [
        "Se evalua con el dataset de test"
      ]
    },
    {
      "cell_type": "code",
      "execution_count": 64,
      "metadata": {},
      "outputs": [
        {
          "name": "stdout",
          "output_type": "stream",
          "text": [
            "28/28 [==============================] - 1s 32ms/step - loss: 0.1040 - accuracy: 0.9798\n",
            "Test Loss:  0.10399916023015976\n",
            "Test Accuracy:  0.9797753095626831\n"
          ]
        }
      ],
      "source": [
        "test_loss, test_accuracy = modelvgg19.evaluate(X_t, test_labels)\n",
        "print(\"Test Loss: \", test_loss)\n",
        "print(\"Test Accuracy: \", test_accuracy)"
      ]
    },
    {
      "attachments": {},
      "cell_type": "markdown",
      "metadata": {},
      "source": [
        "Se crea la matriz de confusión y el classification report para ver como se han comportado cada una de las clases"
      ]
    },
    {
      "cell_type": "code",
      "execution_count": 65,
      "metadata": {},
      "outputs": [
        {
          "name": "stderr",
          "output_type": "stream",
          "text": [
            "2023-05-15 23:46:24.885048: I tensorflow/core/grappler/optimizers/custom_graph_optimizer_registry.cc:113] Plugin optimizer for device_type GPU is enabled.\n"
          ]
        },
        {
          "name": "stdout",
          "output_type": "stream",
          "text": [
            "28/28 [==============================] - 1s 26ms/step\n",
            "Classification Report:\n",
            "                          precision    recall  f1-score   support\n",
            "\n",
            "  abraham_grampa_simpson       0.98      0.98      0.98        48\n",
            "  apu_nahasapeemapetilon       1.00      0.96      0.98        50\n",
            "            bart_simpson       1.00      1.00      1.00        50\n",
            "charles_montgomery_burns       0.94      0.98      0.96        48\n",
            "            chief_wiggum       0.98      0.98      0.98        50\n",
            "          comic_book_guy       1.00      0.96      0.98        49\n",
            "          edna_krabappel       1.00      0.98      0.99        50\n",
            "           homer_simpson       0.92      0.96      0.94        50\n",
            "           kent_brockman       1.00      0.96      0.98        50\n",
            "        krusty_the_clown       0.98      1.00      0.99        50\n",
            "            lisa_simpson       1.00      0.96      0.98        50\n",
            "           marge_simpson       0.98      1.00      0.99        50\n",
            "     milhouse_van_houten       0.96      0.98      0.97        49\n",
            "             moe_szyslak       0.98      1.00      0.99        50\n",
            "            ned_flanders       0.96      1.00      0.98        49\n",
            "            nelson_muntz       0.98      0.96      0.97        50\n",
            "       principal_skinner       1.00      1.00      1.00        50\n",
            "            sideshow_bob       0.98      0.98      0.98        47\n",
            "\n",
            "                accuracy                           0.98       890\n",
            "               macro avg       0.98      0.98      0.98       890\n",
            "            weighted avg       0.98      0.98      0.98       890\n",
            "\n",
            "Confusion Matrix:\n",
            "[[47  0  0  0  0  0  0  1  0  0  0  0  0  0  0  0  0  0]\n",
            " [ 0 48  0  1  0  0  0  0  0  0  0  0  0  0  1  0  0  0]\n",
            " [ 0  0 50  0  0  0  0  0  0  0  0  0  0  0  0  0  0  0]\n",
            " [ 0  0  0 47  0  0  0  0  0  0  0  0  0  0  0  0  0  1]\n",
            " [ 0  0  0  0 49  0  0  0  0  0  0  0  1  0  0  0  0  0]\n",
            " [ 0  0  0  0  0 47  0  1  0  0  0  0  0  0  0  1  0  0]\n",
            " [ 0  0  0  0  0  0 49  0  0  1  0  0  0  0  0  0  0  0]\n",
            " [ 1  0  0  1  0  0  0 48  0  0  0  0  0  0  0  0  0  0]\n",
            " [ 0  0  0  0  0  0  0  1 48  0  0  0  0  1  0  0  0  0]\n",
            " [ 0  0  0  0  0  0  0  0  0 50  0  0  0  0  0  0  0  0]\n",
            " [ 0  0  0  1  0  0  0  0  0  0 48  0  1  0  0  0  0  0]\n",
            " [ 0  0  0  0  0  0  0  0  0  0  0 50  0  0  0  0  0  0]\n",
            " [ 0  0  0  0  0  0  0  0  0  0  0  1 48  0  0  0  0  0]\n",
            " [ 0  0  0  0  0  0  0  0  0  0  0  0  0 50  0  0  0  0]\n",
            " [ 0  0  0  0  0  0  0  0  0  0  0  0  0  0 49  0  0  0]\n",
            " [ 0  0  0  0  1  0  0  0  0  0  0  0  0  0  1 48  0  0]\n",
            " [ 0  0  0  0  0  0  0  0  0  0  0  0  0  0  0  0 50  0]\n",
            " [ 0  0  0  0  0  0  0  1  0  0  0  0  0  0  0  0  0 46]]\n"
          ]
        }
      ],
      "source": [
        "class_names = [MAP_CHARACTERS[i] for i in range(len(MAP_CHARACTERS))]\n",
        "\n",
        "# Matriz de confusión y métricas adicionales\n",
        "Y_pred = modelvgg19.predict(X_t)\n",
        "y_pred = np.argmax(Y_pred, axis=1)\n",
        "\n",
        "print('Classification Report:')\n",
        "print(classification_report(y_t, y_pred, target_names=class_names))\n",
        "\n",
        "print('Confusion Matrix:')\n",
        "print(confusion_matrix(y_t, y_pred))"
      ]
    },
    {
      "attachments": {},
      "cell_type": "markdown",
      "metadata": {},
      "source": [
        "Ahora vamos con la parte de Data Augmentation"
      ]
    },
    {
      "cell_type": "code",
      "execution_count": 16,
      "metadata": {},
      "outputs": [
        {
          "name": "stdout",
          "output_type": "stream",
          "text": [
            "Found 15203 images belonging to 18 classes.\n",
            "Found 3789 images belonging to 18 classes.\n"
          ]
        }
      ],
      "source": [
        "from tensorflow.keras.preprocessing.image import ImageDataGenerator\n",
        "\n",
        "classes_to_keep = [MAP_CHARACTERS[i] for i in range(len(MAP_CHARACTERS))]\n",
        "\n",
        "datagen = ImageDataGenerator(\n",
        "        rescale = 1./255,\n",
        "\trotation_range=40,\n",
        "        width_shift_range=0.2,\n",
        "        height_shift_range=0.2,\n",
        "        shear_range=0.2,\n",
        "        zoom_range=0.2,\n",
        "        horizontal_flip=True,\n",
        "        fill_mode='nearest',\n",
        "        validation_split=0.2)  # aquí es donde especificas la división\n",
        "\n",
        "# Generador para el entrenamiento\n",
        "train_generator = datagen.flow_from_directory(\n",
        "        '/Users/baudi/AI/datasets/simpsons',  # directorio que contiene las imágenes\n",
        "        target_size=(60, 60),\n",
        "        batch_size=64,\n",
        "        class_mode='categorical',\n",
        "        classes=classes_to_keep,\n",
        "        shuffle=True,\n",
        "        subset='training')  # especifica que estas imágenes son para entrenamiento\n",
        "\n",
        "# Generador para la validación\n",
        "validation_generator = datagen.flow_from_directory(\n",
        "        '/Users/baudi/AI/datasets/simpsons',  # nota que usamos el mismo directorio que antes\n",
        "        target_size=(60, 60),\n",
        "        batch_size=64,\n",
        "        class_mode='categorical',\n",
        "        classes=classes_to_keep,\n",
        "        shuffle=False,\n",
        "        subset='validation')  # especifica que estas imágenes son para validación\n",
        "\n"
      ]
    },
    {
      "attachments": {},
      "cell_type": "markdown",
      "metadata": {},
      "source": [
        "Adicionalmente y para que el Test Generator sea capaz de leer correctamente las imágenes de simpsons_testset, se proporciona este script que crea un directorio por clase y mueve cada imagen a su directorio correspondiente"
      ]
    },
    {
      "cell_type": "code",
      "execution_count": 17,
      "metadata": {},
      "outputs": [],
      "source": [
        "import os\n",
        "import shutil\n",
        "\n",
        "# Directorio donde están todas las imágenes\n",
        "src_dir = '/Users/baudi/AI/datasets/simpsons_testset'\n",
        "\n",
        "# Obtén la lista de todas las imágenes\n",
        "image_files = os.listdir(src_dir)\n",
        "\n",
        "for img in image_files:\n",
        "    # Ignora los directorios, procesa solo archivos\n",
        "    if not os.path.isfile(os.path.join(src_dir, img)):\n",
        "        continue\n",
        "\n",
        "    # Obtén el nombre de la clase de la imagen (todo lo que precede al último '_')\n",
        "    class_name = '_'.join(img.split('_')[:-1])\n",
        "\n",
        "    # Define el nombre del subdirectorio\n",
        "    class_dir = os.path.join(src_dir, class_name)\n",
        "    \n",
        "    # Si el subdirectorio no existe, crea el subdirectorio\n",
        "    if not os.path.exists(class_dir):\n",
        "        os.mkdir(class_dir)\n",
        "    \n",
        "    # Define el nombre de archivo del destino\n",
        "    dst_file = os.path.join(class_dir, img)\n",
        "    \n",
        "    # Si el archivo de destino no existe, mueve la imagen al subdirectorio\n",
        "    if not os.path.exists(dst_file):\n",
        "        shutil.move(os.path.join(src_dir, img), dst_file)\n"
      ]
    },
    {
      "attachments": {},
      "cell_type": "markdown",
      "metadata": {},
      "source": [
        "Se cargan las imagenes de test"
      ]
    },
    {
      "cell_type": "code",
      "execution_count": 18,
      "metadata": {},
      "outputs": [
        {
          "name": "stdout",
          "output_type": "stream",
          "text": [
            "Found 890 images belonging to 18 classes.\n"
          ]
        }
      ],
      "source": [
        "\n",
        "test_datagen = ImageDataGenerator(rescale = 1./255)  \n",
        "\n",
        "test_generator = test_datagen.flow_from_directory(\n",
        "        '/Users/baudi/AI/datasets/simpsons_testset', \n",
        "        target_size=(60, 60),\n",
        "        batch_size=64,\n",
        "        class_mode='categorical',\n",
        "        classes=classes_to_keep,\n",
        "        shuffle=False) \n",
        "\n"
      ]
    },
    {
      "attachments": {},
      "cell_type": "markdown",
      "metadata": {},
      "source": [
        "Se entrena con el primer modelo"
      ]
    },
    {
      "cell_type": "code",
      "execution_count": 19,
      "metadata": {},
      "outputs": [
        {
          "name": "stdout",
          "output_type": "stream",
          "text": [
            "Metal device set to: Apple M2 Pro\n",
            "\n",
            "systemMemory: 32.00 GB\n",
            "maxCacheSize: 10.67 GB\n",
            "\n",
            "Model: \"sequential\"\n"
          ]
        },
        {
          "name": "stderr",
          "output_type": "stream",
          "text": [
            "2023-05-16 00:01:00.758885: I tensorflow/core/common_runtime/pluggable_device/pluggable_device_factory.cc:305] Could not identify NUMA node of platform GPU ID 0, defaulting to 0. Your kernel may not have been built with NUMA support.\n",
            "2023-05-16 00:01:00.759037: I tensorflow/core/common_runtime/pluggable_device/pluggable_device_factory.cc:271] Created TensorFlow device (/job:localhost/replica:0/task:0/device:GPU:0 with 0 MB memory) -> physical PluggableDevice (device: 0, name: METAL, pci bus id: <undefined>)\n"
          ]
        },
        {
          "name": "stdout",
          "output_type": "stream",
          "text": [
            "_________________________________________________________________\n",
            " Layer (type)                Output Shape              Param #   \n",
            "=================================================================\n",
            " conv2d (Conv2D)             (None, 60, 60, 64)        1792      \n",
            "                                                                 \n",
            " batch_normalization (BatchN  (None, 60, 60, 64)       256       \n",
            " ormalization)                                                   \n",
            "                                                                 \n",
            " max_pooling2d (MaxPooling2D  (None, 30, 30, 64)       0         \n",
            " )                                                               \n",
            "                                                                 \n",
            " conv2d_1 (Conv2D)           (None, 30, 30, 128)       73856     \n",
            "                                                                 \n",
            " batch_normalization_1 (Batc  (None, 30, 30, 128)      512       \n",
            " hNormalization)                                                 \n",
            "                                                                 \n",
            " max_pooling2d_1 (MaxPooling  (None, 15, 15, 128)      0         \n",
            " 2D)                                                             \n",
            "                                                                 \n",
            " conv2d_2 (Conv2D)           (None, 15, 15, 256)       295168    \n",
            "                                                                 \n",
            " batch_normalization_2 (Batc  (None, 15, 15, 256)      1024      \n",
            " hNormalization)                                                 \n",
            "                                                                 \n",
            " max_pooling2d_2 (MaxPooling  (None, 7, 7, 256)        0         \n",
            " 2D)                                                             \n",
            "                                                                 \n",
            " conv2d_3 (Conv2D)           (None, 7, 7, 512)         1180160   \n",
            "                                                                 \n",
            " batch_normalization_3 (Batc  (None, 7, 7, 512)        2048      \n",
            " hNormalization)                                                 \n",
            "                                                                 \n",
            " max_pooling2d_3 (MaxPooling  (None, 3, 3, 512)        0         \n",
            " 2D)                                                             \n",
            "                                                                 \n",
            " flatten (Flatten)           (None, 4608)              0         \n",
            "                                                                 \n",
            " dense (Dense)               (None, 4096)              18878464  \n",
            "                                                                 \n",
            " batch_normalization_4 (Batc  (None, 4096)             16384     \n",
            " hNormalization)                                                 \n",
            "                                                                 \n",
            " dropout (Dropout)           (None, 4096)              0         \n",
            "                                                                 \n",
            " dense_1 (Dense)             (None, 2048)              8390656   \n",
            "                                                                 \n",
            " batch_normalization_5 (Batc  (None, 2048)             8192      \n",
            " hNormalization)                                                 \n",
            "                                                                 \n",
            " dropout_1 (Dropout)         (None, 2048)              0         \n",
            "                                                                 \n",
            " dense_2 (Dense)             (None, 1024)              2098176   \n",
            "                                                                 \n",
            " batch_normalization_6 (Batc  (None, 1024)             4096      \n",
            " hNormalization)                                                 \n",
            "                                                                 \n",
            " dropout_2 (Dropout)         (None, 1024)              0         \n",
            "                                                                 \n",
            " dense_3 (Dense)             (None, 18)                18450     \n",
            "                                                                 \n",
            "=================================================================\n",
            "Total params: 30,969,234\n",
            "Trainable params: 30,952,978\n",
            "Non-trainable params: 16,256\n",
            "_________________________________________________________________\n",
            "None\n",
            "Epoch 1/20\n"
          ]
        },
        {
          "name": "stderr",
          "output_type": "stream",
          "text": [
            "2023-05-16 00:01:01.100225: W tensorflow/core/platform/profile_utils/cpu_utils.cc:128] Failed to get CPU frequency: 0 Hz\n",
            "2023-05-16 00:01:01.646370: I tensorflow/core/grappler/optimizers/custom_graph_optimizer_registry.cc:113] Plugin optimizer for device_type GPU is enabled.\n"
          ]
        },
        {
          "name": "stdout",
          "output_type": "stream",
          "text": [
            "238/238 [==============================] - ETA: 0s - loss: 3.3975 - accuracy: 0.1942"
          ]
        },
        {
          "name": "stderr",
          "output_type": "stream",
          "text": [
            "2023-05-16 00:01:23.596729: I tensorflow/core/grappler/optimizers/custom_graph_optimizer_registry.cc:113] Plugin optimizer for device_type GPU is enabled.\n"
          ]
        },
        {
          "name": "stdout",
          "output_type": "stream",
          "text": [
            "238/238 [==============================] - 27s 110ms/step - loss: 3.3975 - accuracy: 0.1942 - val_loss: 3.7114 - val_accuracy: 0.0438\n",
            "Epoch 2/20\n",
            "238/238 [==============================] - 26s 108ms/step - loss: 2.7021 - accuracy: 0.3115 - val_loss: 2.9082 - val_accuracy: 0.1863\n",
            "Epoch 3/20\n",
            "238/238 [==============================] - 26s 108ms/step - loss: 2.3356 - accuracy: 0.3791 - val_loss: 1.9061 - val_accuracy: 0.4524\n",
            "Epoch 4/20\n",
            "238/238 [==============================] - 26s 109ms/step - loss: 2.0419 - accuracy: 0.4393 - val_loss: 1.7818 - val_accuracy: 0.4880\n",
            "Epoch 5/20\n",
            "238/238 [==============================] - 26s 110ms/step - loss: 1.7976 - accuracy: 0.4917 - val_loss: 1.7418 - val_accuracy: 0.5220\n",
            "Epoch 6/20\n",
            "238/238 [==============================] - 27s 113ms/step - loss: 1.6222 - accuracy: 0.5350 - val_loss: 1.7534 - val_accuracy: 0.5226\n",
            "Epoch 7/20\n",
            "238/238 [==============================] - 26s 110ms/step - loss: 1.4832 - accuracy: 0.5656 - val_loss: 1.4268 - val_accuracy: 0.5827\n",
            "Epoch 8/20\n",
            "238/238 [==============================] - 26s 110ms/step - loss: 1.3178 - accuracy: 0.6081 - val_loss: 1.4104 - val_accuracy: 0.5920\n",
            "Epoch 9/20\n",
            "238/238 [==============================] - 26s 110ms/step - loss: 1.1949 - accuracy: 0.6432 - val_loss: 1.3188 - val_accuracy: 0.6215\n",
            "Epoch 10/20\n",
            "238/238 [==============================] - 27s 112ms/step - loss: 1.0877 - accuracy: 0.6730 - val_loss: 1.1778 - val_accuracy: 0.6619\n",
            "Epoch 11/20\n",
            "238/238 [==============================] - 26s 109ms/step - loss: 0.9846 - accuracy: 0.7026 - val_loss: 1.1369 - val_accuracy: 0.6685\n",
            "Epoch 12/20\n",
            "238/238 [==============================] - 27s 112ms/step - loss: 0.9194 - accuracy: 0.7203 - val_loss: 1.1224 - val_accuracy: 0.6796\n",
            "Epoch 13/20\n",
            "238/238 [==============================] - 26s 111ms/step - loss: 0.8629 - accuracy: 0.7384 - val_loss: 1.0348 - val_accuracy: 0.6928\n",
            "Epoch 14/20\n",
            "238/238 [==============================] - 26s 111ms/step - loss: 0.7984 - accuracy: 0.7583 - val_loss: 1.0591 - val_accuracy: 0.6941\n",
            "Epoch 15/20\n",
            "238/238 [==============================] - 26s 110ms/step - loss: 0.7421 - accuracy: 0.7757 - val_loss: 0.9598 - val_accuracy: 0.7237\n",
            "Epoch 16/20\n",
            "238/238 [==============================] - 26s 109ms/step - loss: 0.6895 - accuracy: 0.7900 - val_loss: 0.9497 - val_accuracy: 0.7297\n",
            "Epoch 17/20\n",
            "238/238 [==============================] - 27s 112ms/step - loss: 0.6304 - accuracy: 0.8041 - val_loss: 0.8815 - val_accuracy: 0.7477\n",
            "Epoch 18/20\n",
            "238/238 [==============================] - 26s 111ms/step - loss: 0.6146 - accuracy: 0.8142 - val_loss: 0.8836 - val_accuracy: 0.7543\n",
            "Epoch 19/20\n",
            "238/238 [==============================] - 26s 110ms/step - loss: 0.5884 - accuracy: 0.8239 - val_loss: 0.9727 - val_accuracy: 0.7255\n",
            "Epoch 20/20\n",
            "238/238 [==============================] - 27s 111ms/step - loss: 0.5610 - accuracy: 0.8290 - val_loss: 0.8487 - val_accuracy: 0.7633\n"
          ]
        },
        {
          "data": {
            "text/plain": [
              "<keras.callbacks.History at 0x2cd34f010>"
            ]
          },
          "execution_count": 19,
          "metadata": {},
          "output_type": "execute_result"
        }
      ],
      "source": [
        "model = build_model()\n",
        "model.compile(loss = 'categorical_crossentropy', optimizer=Adam(learning_rate=0.0001), metrics=['accuracy'])\n",
        "model.fit(\n",
        "    train_generator,\n",
        "    epochs=20,\n",
        "    batch_size=32,\n",
        "    validation_data=validation_generator)  # ajustado para usar todos los datos\n"
      ]
    },
    {
      "attachments": {},
      "cell_type": "markdown",
      "metadata": {},
      "source": [
        "Se evalua con los datos de test"
      ]
    },
    {
      "cell_type": "code",
      "execution_count": 20,
      "metadata": {},
      "outputs": [
        {
          "name": "stdout",
          "output_type": "stream",
          "text": [
            "14/14 [==============================] - 0s 24ms/step - loss: 0.4140 - accuracy: 0.8685\n",
            "Test Loss:  0.41400015354156494\n",
            "Test Accuracy:  0.8685393333435059\n"
          ]
        }
      ],
      "source": [
        "test_loss, test_accuracy = model.evaluate(test_generator)\n",
        "print(\"Test Loss: \", test_loss)\n",
        "print(\"Test Accuracy: \", test_accuracy)"
      ]
    },
    {
      "attachments": {},
      "cell_type": "markdown",
      "metadata": {},
      "source": [
        "Se crea la matriz de confusión y el classification report para ver como se han comportado cada una de las clases"
      ]
    },
    {
      "cell_type": "code",
      "execution_count": 21,
      "metadata": {},
      "outputs": [
        {
          "name": "stdout",
          "output_type": "stream",
          "text": [
            " 5/14 [=========>....................] - ETA: 0s"
          ]
        },
        {
          "name": "stderr",
          "output_type": "stream",
          "text": [
            "2023-05-16 00:10:15.584153: I tensorflow/core/grappler/optimizers/custom_graph_optimizer_registry.cc:113] Plugin optimizer for device_type GPU is enabled.\n"
          ]
        },
        {
          "name": "stdout",
          "output_type": "stream",
          "text": [
            "14/14 [==============================] - 0s 24ms/step\n",
            "Classification Report:\n",
            "                          precision    recall  f1-score   support\n",
            "\n",
            "  abraham_grampa_simpson       0.97      0.71      0.82        48\n",
            "  apu_nahasapeemapetilon       0.92      0.96      0.94        50\n",
            "            bart_simpson       0.66      0.86      0.75        50\n",
            "charles_montgomery_burns       0.74      0.88      0.80        48\n",
            "            chief_wiggum       0.90      0.90      0.90        50\n",
            "          comic_book_guy       0.91      0.86      0.88        49\n",
            "          edna_krabappel       0.96      0.88      0.92        50\n",
            "           homer_simpson       0.69      0.90      0.78        50\n",
            "           kent_brockman       1.00      0.86      0.92        50\n",
            "        krusty_the_clown       0.91      0.98      0.94        50\n",
            "            lisa_simpson       0.97      0.60      0.74        50\n",
            "           marge_simpson       0.87      0.96      0.91        50\n",
            "     milhouse_van_houten       1.00      0.88      0.93        49\n",
            "             moe_szyslak       0.95      0.84      0.89        50\n",
            "            ned_flanders       0.81      0.94      0.87        49\n",
            "            nelson_muntz       0.85      0.78      0.81        50\n",
            "       principal_skinner       0.96      0.86      0.91        50\n",
            "            sideshow_bob       0.84      1.00      0.91        47\n",
            "\n",
            "                accuracy                           0.87       890\n",
            "               macro avg       0.88      0.87      0.87       890\n",
            "            weighted avg       0.88      0.87      0.87       890\n",
            "\n",
            "Confusion Matrix:\n",
            "[[34  0  0  0  0  0  0 12  0  0  0  1  0  0  0  0  0  1]\n",
            " [ 0 48  0  1  0  0  1  0  0  0  0  0  0  0  0  0  0  0]\n",
            " [ 0  0 43  1  0  0  0  3  0  0  0  1  0  0  0  0  0  2]\n",
            " [ 0  0  3 42  2  0  0  0  0  1  0  0  0  0  0  0  0  0]\n",
            " [ 0  0  0  1 45  1  0  1  0  1  0  1  0  0  0  0  0  0]\n",
            " [ 0  1  2  2  0 42  0  0  0  0  0  0  0  0  0  2  0  0]\n",
            " [ 0  1  0  0  1  0 44  0  0  0  0  0  0  0  3  0  0  1]\n",
            " [ 1  0  1  1  0  0  0 45  0  0  0  0  0  0  2  0  0  0]\n",
            " [ 0  1  0  1  0  0  0  0 43  1  0  1  0  0  0  0  0  3]\n",
            " [ 0  0  0  0  0  0  0  0  0 49  0  1  0  0  0  0  0  0]\n",
            " [ 0  0 14  2  0  0  1  1  0  0 30  0  0  0  0  1  0  1]\n",
            " [ 0  0  0  0  0  0  0  0  0  0  0 48  0  0  1  0  0  1]\n",
            " [ 0  1  0  1  0  0  0  0  0  1  1  2 43  0  0  0  0  0]\n",
            " [ 0  0  0  4  1  1  0  0  0  1  0  0  0 42  0  0  1  0]\n",
            " [ 0  0  0  0  0  0  0  0  0  0  0  0  0  1 46  1  1  0]\n",
            " [ 0  0  2  1  1  0  0  2  0  0  0  0  0  0  5 39  0  0]\n",
            " [ 0  0  0  0  0  2  0  1  0  0  0  0  0  1  0  3 43  0]\n",
            " [ 0  0  0  0  0  0  0  0  0  0  0  0  0  0  0  0  0 47]]\n"
          ]
        }
      ],
      "source": [
        "class_names = [MAP_CHARACTERS[i] for i in range(len(MAP_CHARACTERS))]\n",
        "\n",
        "#Etiquetas verdaderas\n",
        "y_true = test_generator.classes\n",
        "\n",
        "# Se hace la predicción\n",
        "Y_pred = model.predict(test_generator)\n",
        "y_pred = np.argmax(Y_pred, axis=1)\n",
        "\n",
        "print('Classification Report:')\n",
        "print(classification_report(y_true, y_pred, target_names=class_names))\n",
        "\n",
        "print('Confusion Matrix:')\n",
        "print(confusion_matrix(y_true, y_pred))"
      ]
    }
  ],
  "metadata": {
    "accelerator": "GPU",
    "colab": {
      "collapsed_sections": [],
      "name": "Actividad_2_Redes_Neuronales_Convolucionales_CNN.ipynb",
      "provenance": []
    },
    "kernelspec": {
      "display_name": "Python 3",
      "name": "python3"
    },
    "language_info": {
      "codemirror_mode": {
        "name": "ipython",
        "version": 3
      },
      "file_extension": ".py",
      "mimetype": "text/x-python",
      "name": "python",
      "nbconvert_exporter": "python",
      "pygments_lexer": "ipython3",
      "version": "3.10.9"
    }
  },
  "nbformat": 4,
  "nbformat_minor": 0
}
